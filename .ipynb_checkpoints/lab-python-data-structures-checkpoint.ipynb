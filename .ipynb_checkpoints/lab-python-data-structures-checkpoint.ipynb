{
 "cells": [
  {
   "cell_type": "markdown",
   "metadata": {},
   "source": [
    "# Lab | Data Structures "
   ]
  },
  {
   "cell_type": "markdown",
   "metadata": {},
   "source": [
    "## Exercise 1: Working with Lists"
   ]
  },
  {
   "cell_type": "markdown",
   "metadata": {},
   "source": [
    "Imagine you are building a program for a teacher who wants to track the progress of their students throughout the semester. The teacher wants to input the grades of each student one by one, and get a summary of their performance. There are in total 5 students. You are tasked with building the program that will allow the teacher to do this easily.\n",
    "\n",
    "The program will prompt the teacher to enter the grades of each student. Once the teacher has entered all the grades, the program will calculate the total sum of the grades and display it on the screen. Then, the program will create a new list by selecting only the grades of the first, third, and fifth students entered by the teacher, and sort them in ascending order.\n",
    "\n",
    "Finally, the program will print out the new list, along with its length and the number of occurrences of the score 5 in the list. This will give the teacher a good overview of the performance of the selected students, and help them identify any potential issues early on."
   ]
  },
  {
   "cell_type": "markdown",
   "metadata": {},
   "source": [
    "*Hint:*\n",
    "- You can use the input() function to ask the user to enter their information.\n",
    "- Look for list methods to perform the tasks. \n",
    "- Remember, it is possible to get a part of the sequence using:\n",
    "\n",
    "    ```python\n",
    "    sequence[x:y:z]\n",
    "    ```\n",
    "    where x, y, z are integers.\n",
    "\n",
    "    The above returns a new sequence with the following characteristics:\n",
    "\n",
    "    - A sequence with the same type as the original (a slice of a list is a list, a slice of a tuple is a tuple, and a slice of a string is a string).\n",
    "    - A sequence with elements from `sequence [x]` to `sequence [y-1]` (does not include a sequence [y]). By skipping `z` elements each time, it can be omitted if ` z = 1`.\n"
   ]
  },
  {
   "cell_type": "markdown",
   "metadata": {},
   "source": [
    "*Recommended External Resources:*\n",
    "- *[Python Lists](https://www.w3schools.com/python/python_lists.asp)*\n",
    "- *[Python List Methods](https://www.w3schools.com/python/python_ref_list.asp)*\n",
    "- *[Python Built-in Functions](https://docs.python.org/3/library/functions.html)*\n"
   ]
  },
  {
   "cell_type": "code",
   "execution_count": null,
   "metadata": {},
   "outputs": [],
   "source": [
    "grades = []\n",
    "\n",
    "# Prompt the teacher to enter the grades of each student\n",
    "for i in range(5):\n",
    "    grade = float(input(f\"Enter the grade of student {i+1}: \"))\n",
    "    grades.append(grade)\n",
    "\n",
    "# Calculate the total sum of grades\n",
    "total_sum = sum(grades)\n",
    "print(\"Total sum of grades:\", total_sum)\n",
    "\n",
    "# Create a new list by selecting only the grades of the first, third, and fifth students\n",
    "selected_grades = grades[0::2]  # Selecting grades of the first, third, and fifth students\n",
    "selected_grades.sort()          # Sort the selected grades in ascending order\n",
    "\n",
    "# Print the new list, its length, and the number of occurrences of the score 5\n",
    "print(\"Selected grades:\", selected_grades)\n",
    "print(\"Length of the new list:\", len(selected_grades))\n",
    "print(\"Number of occurrences of score 5:\", selected_grades.count(5))"
   ]
  },
  {
   "cell_type": "markdown",
   "metadata": {},
   "source": [
    "## Exercise 2: Tuples"
   ]
  },
  {
   "cell_type": "markdown",
   "metadata": {},
   "source": [
    "Imagine you're running a fruit stand and want to keep track of your inventory. Write a Python program that does the following:\n",
    "\n",
    "- Initializes a tuple with 5 different types of fruit.\n",
    "- Outputs the first and last elements of the tuple, so you can see the full range of fruits the store offers.\n",
    "- Replaces the second element of the tuple with a new fruit that the store has recently received, and prints the updated tuple so you can see the changes.\n",
    "- Concatenates a new tuple containing 2 additional fruits to the original tuple, so you can add them to the store inventory, and prints the resulting tuple to see the updated inventory.\n",
    "- Splits the resulting tuple into 2 tuples of 3 elements each (the first tuple contains the first 3 elements, and the second tuple contains the last 3 elements), so you can organize the inventory more effectively.\n",
    "- Combines the 2 tuples from the previous step with the original tuple into a new tuple, and prints the resulting tuple and its length, so you can see the final inventory after all the changes."
   ]
  },
  {
   "cell_type": "markdown",
   "metadata": {},
   "source": [
    "*Recommended External Resources: [Python Tuples Examples and Methods](https://www.w3schools.com/python/python_tuples.asp)*\n",
    "\n"
   ]
  },
  {
   "cell_type": "code",
   "execution_count": 1,
   "metadata": {},
   "outputs": [
    {
     "name": "stdout",
     "output_type": "stream",
     "text": [
      "First fruit: apple\n",
      "Last fruit: kiwi\n"
     ]
    }
   ],
   "source": [
    "fruit_inventory = (\"apple\", \"banana\", \"orange\", \"grape\", \"kiwi\")\n",
    "\n",
    "# Output the first and last elements of the tuple\n",
    "print(\"First fruit:\", fruit_inventory[0])\n",
    "print(\"Last fruit:\", fruit_inventory[-1])"
   ]
  },
  {
   "cell_type": "code",
   "execution_count": 2,
   "metadata": {},
   "outputs": [
    {
     "name": "stdout",
     "output_type": "stream",
     "text": [
      "Updated inventory after replacing second fruit: ('apple', 'pear', 'orange', 'grape', 'kiwi')\n"
     ]
    }
   ],
   "source": [
    "# Replace the second element of the tuple with a new fruit\n",
    "fruit_inventory = list(fruit_inventory)  # Convert tuple to list for modification\n",
    "fruit_inventory[1] = \"pear\"         # Replace the second element with \"pear\"\n",
    "fruit_inventory = tuple(fruit_inventory)  # Convert list back to tuple\n",
    "print(\"Updated inventory after replacing second fruit:\", fruit_inventory)"
   ]
  },
  {
   "cell_type": "code",
   "execution_count": 3,
   "metadata": {},
   "outputs": [
    {
     "name": "stdout",
     "output_type": "stream",
     "text": [
      "Updated inventory after adding additional fruits: ('apple', 'pear', 'orange', 'grape', 'kiwi', 'pineapple', 'strawberry')\n"
     ]
    }
   ],
   "source": [
    "# Concatenate a new tuple containing 2 additional fruits to the original tuple\n",
    "additional_fruits = (\"pineapple\", \"strawberry\")\n",
    "fruit_inventory += additional_fruits\n",
    "print(\"Updated inventory after adding additional fruits:\", fruit_inventory)\n"
   ]
  },
  {
   "cell_type": "code",
   "execution_count": 4,
   "metadata": {},
   "outputs": [
    {
     "name": "stdout",
     "output_type": "stream",
     "text": [
      "First tuple: ('apple', 'pear', 'orange')\n",
      "Second tuple: ('grape', 'kiwi', 'pineapple', 'strawberry')\n"
     ]
    }
   ],
   "source": [
    "# Split the resulting tuple into 2 tuples of 3 elements each\n",
    "first_tuple = fruit_inventory[:3]\n",
    "second_tuple = fruit_inventory[3:]\n",
    "print(\"First tuple:\", first_tuple)\n",
    "print(\"Second tuple:\", second_tuple)"
   ]
  },
  {
   "cell_type": "code",
   "execution_count": 5,
   "metadata": {},
   "outputs": [
    {
     "name": "stdout",
     "output_type": "stream",
     "text": [
      "Final inventory: ('apple', 'pear', 'orange', 'grape', 'kiwi', 'pineapple', 'strawberry', 'apple', 'pear', 'orange', 'grape', 'kiwi', 'pineapple', 'strawberry')\n",
      "Length of final inventory: 14\n"
     ]
    }
   ],
   "source": [
    "# Combine the 2 tuples with the original tuple into a new tuple\n",
    "final_inventory = first_tuple + second_tuple + fruit_inventory\n",
    "print(\"Final inventory:\", final_inventory)\n",
    "print(\"Length of final inventory:\", len(final_inventory))"
   ]
  },
  {
   "cell_type": "markdown",
   "metadata": {},
   "source": [
    "## Exercise 3: Sets"
   ]
  },
  {
   "cell_type": "markdown",
   "metadata": {},
   "source": [
    "Imagine you are a data analyst working for a literature museum. Your manager has given you two poems to analyze, and she wants you to write a Python program to extract useful information from them.\n",
    "\n",
    "Your program should:\n",
    "\n",
    "- Create two sets, one for each poem, containing all unique words in both poems (ignoring case and punctuation).\n",
    "- Print the number of unique words in each set.\n",
    "- Identify and print the unique words present in the first poem but not in the second one.\n",
    "- Identify and print the unique words present in the second poem but not in the first one.\n",
    "- Identify and print the unique words present in both poems and print it in alphabetical order."
   ]
  },
  {
   "cell_type": "markdown",
   "metadata": {},
   "source": [
    "*Recommended External Resources:*\n",
    "- *[Python Sets](https://www.w3schools.com/python/python_sets.asp)* \n",
    "- *[Python Set Methods](https://www.w3schools.com/python/python_ref_set.asp)*\n",
    "- *[Python String Methods](https://www.w3schools.com/python/python_ref_string.asp)*\n"
   ]
  },
  {
   "cell_type": "code",
   "execution_count": 9,
   "metadata": {},
   "outputs": [],
   "source": [
    "poem = \"\"\"Some say the world will end in fire,\n",
    "Some say in ice.\n",
    "From what I’ve tasted of desire\n",
    "I hold with those who favor fire.\n",
    "But if it had to perish twice,\n",
    "I think I know enough of hate\n",
    "To say that for destruction ice\n",
    "Is also great\n",
    "And would suffice.\"\"\"\n",
    "\n",
    "new_poem = \"\"\"Some say life is but a dream,\n",
    "Some say it's a test.\n",
    "From what I've seen and what I deem,\n",
    "I side with those who see it as a quest.\n",
    "\n",
    "But if it had to end today,\n",
    "I think I know enough of love,\n",
    "To say that though it fades away,\n",
    "It's still what we are made of.\"\"\""
   ]
  },
  {
   "cell_type": "code",
   "execution_count": 12,
   "metadata": {},
   "outputs": [],
   "source": [
    "import string\n",
    "def clean_and_organize(poem):\n",
    "    # Remove punctuation and convert to lowercase\n",
    "    cleaned_poem = poem.translate(str.maketrans('', '', string.punctuation)).lower()\n",
    "    # organize the poem into words\n",
    "    words = cleaned_poem.split()\n",
    "    return set(words)"
   ]
  },
  {
   "cell_type": "code",
   "execution_count": 13,
   "metadata": {},
   "outputs": [],
   "source": [
    "# Create sets for unique words in each poem\n",
    "unique_words_poem = clean_and_organize(poem)\n",
    "unique_words_new_poem = clean_and_organize(new_poem)"
   ]
  },
  {
   "cell_type": "code",
   "execution_count": 14,
   "metadata": {},
   "outputs": [
    {
     "name": "stdout",
     "output_type": "stream",
     "text": [
      "Number of unique words in poem 1: 41\n",
      "Number of unique words in poem 2: 42\n"
     ]
    }
   ],
   "source": [
    "# Print the number of unique words in each set\n",
    "print(\"Number of unique words in poem 1:\", len(unique_words_poem))\n",
    "print(\"Number of unique words in poem 2:\", len(unique_words_new_poem))"
   ]
  },
  {
   "cell_type": "code",
   "execution_count": 17,
   "metadata": {},
   "outputs": [
    {
     "name": "stdout",
     "output_type": "stream",
     "text": [
      "Unique words present in poem 1 but not in poem 2: {'also', 'desire', 'destruction', 'tasted', 'perish', 'fire', 'ice', 'hate', 'favor', 'i’ve', 'great', 'hold', 'would', 'world', 'the', 'suffice', 'twice', 'for', 'in', 'will'}\n"
     ]
    }
   ],
   "source": [
    "# Identify and print unique words present in the first poem but not in the second one\n",
    "unique_words_only_in_poem = unique_words_poem - unique_words_new_poem\n",
    "print(\"Unique words present in poem 1 but not in poem 2:\", unique_words_only_in_poem)"
   ]
  },
  {
   "cell_type": "code",
   "execution_count": 18,
   "metadata": {},
   "outputs": [
    {
     "name": "stdout",
     "output_type": "stream",
     "text": [
      "Unique words present in poem 2 but not in poem 1: {'those', 'see', 'today', 'its', 'life', 'think', 'though', 'as', 'are', 'made', 'seen', 'know', 'what', 'of', 'side', 'love', 'fades', 'to', 'had', 'test', 'away', 'and', 'from', 'deem', 'quest', 'it', 'enough', 'end', 'still', 'dream', 'but', 'if', 'say', 'ive', 'with', 'that', 'who', 'we', 'a', 'i', 'some', 'is'}\n"
     ]
    }
   ],
   "source": [
    "# Identify and print unique words present in the second poem but not in the first one\n",
    "unique_words_new_poem = unique_words_new_poem - unique_words_poem\n",
    "print(\"Unique words present in poem 2 but not in poem 1:\", unique_words_new_poem)"
   ]
  },
  {
   "cell_type": "code",
   "execution_count": 19,
   "metadata": {},
   "outputs": [
    {
     "name": "stdout",
     "output_type": "stream",
     "text": [
      "Unique words present in both poems: []\n"
     ]
    }
   ],
   "source": [
    "# Identify and print unique words present in both poems in alphabetical order\n",
    "unique_words_in_both_poems = sorted(unique_words_poem.intersection(unique_words_new_poem))\n",
    "print(\"Unique words present in both poems:\", unique_words_in_both_poems)"
   ]
  },
  {
   "cell_type": "markdown",
   "metadata": {},
   "source": [
    "## Exercise 4: Dictionaries"
   ]
  },
  {
   "cell_type": "markdown",
   "metadata": {},
   "source": [
    "Consider the following dictionary of students with their scores in different subjects. One of the students, Bob, has complained about his score in Philosophy and, after reviewing it, the teacher has decided to update his score to 100. Write a Python program that updates Bob's score in Philosophy to 100 in the dictionary."
   ]
  },
  {
   "cell_type": "markdown",
   "metadata": {},
   "source": [
    "*Recommended External Resources: [Python Dictionary Examples and Methods](https://www.w3schools.com/python/python_dictionaries.asp)*\n"
   ]
  },
  {
   "cell_type": "code",
   "execution_count": 51,
   "metadata": {},
   "outputs": [],
   "source": [
    "grades = {'Alice': {'Physics': 75, 'Math': 85, 'Chemistry': 60, 'Philosophy': 90}, 'Bob': {'Physics': 75, 'Math': 85, 'Chemistry': 60, 'Philosophy': 90}}"
   ]
  },
  {
   "cell_type": "code",
   "execution_count": 20,
   "metadata": {},
   "outputs": [
    {
     "name": "stdout",
     "output_type": "stream",
     "text": [
      "Updated grades:\n",
      "{'Alice': {'Physics': 75, 'Math': 85, 'Chemistry': 60, 'Philosophy': 90}, 'Bob': {'Physics': 75, 'Math': 85, 'Chemistry': 60, 'Philosophy': 100}}\n"
     ]
    }
   ],
   "source": [
    "grades = {\n",
    "    'Alice': {'Physics': 75, 'Math': 85, 'Chemistry': 60, 'Philosophy': 90},\n",
    "    'Bob': {'Physics': 75, 'Math': 85, 'Chemistry': 60, 'Philosophy': 90}\n",
    "}\n",
    "\n",
    "# Update Bob's score in Philosophy to 100\n",
    "grades['Bob']['Philosophy'] = 100\n",
    "\n",
    "# Print the updated dictionary\n",
    "print(\"Updated grades:\")\n",
    "print(grades)"
   ]
  },
  {
   "cell_type": "markdown",
   "metadata": {},
   "source": [
    "## Bonus"
   ]
  },
  {
   "cell_type": "markdown",
   "metadata": {},
   "source": [
    "1. Below are the two lists. Write a Python program to convert them into a dictionary in a way that item from list1 is the key and item from list2 is the value."
   ]
  },
  {
   "cell_type": "markdown",
   "metadata": {},
   "source": [
    "*Hint: Use the zip() function. This function takes two or more iterables (like list, dict, string), aggregates them in a tuple, and returns it. Afterwards, you can use a function that turns a tuple into a dictionary.*"
   ]
  },
  {
   "cell_type": "markdown",
   "metadata": {},
   "source": [
    "*Recommended External Resources: [Python Zip Function](https://www.w3schools.com/python/ref_func_zip.asp)*\n"
   ]
  },
  {
   "cell_type": "code",
   "execution_count": 21,
   "metadata": {},
   "outputs": [
    {
     "name": "stdout",
     "output_type": "stream",
     "text": [
      "Resulting dictionary:\n",
      "{'Physics': 75, 'Math': 85, 'Chemistry': 60, 'Philosophy': 90}\n"
     ]
    }
   ],
   "source": [
    "keys = ['Physics', 'Math', 'Chemistry', 'Philosophy']\n",
    "values = [75, 85, 60,90]\n",
    "\n",
    "grades_dict = dict(zip(keys, values))\n",
    "\n",
    "# Printing the resulting dictionary\n",
    "print(\"Resulting dictionary:\")\n",
    "print(grades_dict)"
   ]
  },
  {
   "cell_type": "markdown",
   "metadata": {},
   "source": [
    "2. Get the subject with the minimum score from the previous dictionary."
   ]
  },
  {
   "cell_type": "markdown",
   "metadata": {},
   "source": [
    "*Hint: Use the built-in function min(). Read about the parameter key.*"
   ]
  },
  {
   "cell_type": "markdown",
   "metadata": {},
   "source": [
    "\n",
    "*Recommended External Resources:*\n",
    "- *[Python Min Function Official Documentation](https://docs.python.org/3.8/library/functions.html#min)*\n",
    "- *[How to use key function in max and min in Python](https://medium.com/analytics-vidhya/how-to-use-key-function-in-max-and-min-in-python-1fdbd661c59c)*"
   ]
  },
  {
   "cell_type": "code",
   "execution_count": 22,
   "metadata": {},
   "outputs": [
    {
     "name": "stdout",
     "output_type": "stream",
     "text": [
      "Subject with the minimum score: Chemistry\n"
     ]
    }
   ],
   "source": [
    "grades = {\n",
    "    'Physics': 75,\n",
    "    'Math': 85,\n",
    "    'Chemistry': 60,\n",
    "    'Philosophy': 90\n",
    "}\n",
    "\n",
    "# Find the subject with the minimum score\n",
    "subject_min_score = min(grades, key=grades.get)\n",
    "\n",
    "# Print the subject with the minimum score\n",
    "print(\"Subject with the minimum score:\", subject_min_score)"
   ]
  }
 ],
 "metadata": {
  "kernelspec": {
   "display_name": "Python 3 (ipykernel)",
   "language": "python",
   "name": "python3"
  },
  "language_info": {
   "codemirror_mode": {
    "name": "ipython",
    "version": 3
   },
   "file_extension": ".py",
   "mimetype": "text/x-python",
   "name": "python",
   "nbconvert_exporter": "python",
   "pygments_lexer": "ipython3",
   "version": "3.11.7"
  }
 },
 "nbformat": 4,
 "nbformat_minor": 4
}
